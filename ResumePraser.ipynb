{
 "cells": [
  {
   "cell_type": "code",
   "execution_count": null,
   "id": "0ebc8d63",
   "metadata": {},
   "outputs": [],
   "source": [
    "%pip install PyPDF2\n",
    "%pip install python-docx\n",
    "%pip install spacy\n",
    "%pip install pandas\n",
    "!python -m spacy download en_core_web_sm"
   ]
  },
  {
   "cell_type": "code",
   "execution_count": null,
   "id": "1c68749d",
   "metadata": {},
   "outputs": [],
   "source": [
    "from PyPDF2 import PdfReader\n",
    "from docx import Document\n",
    "import os\n",
    "\n",
    "# extract text from PDF or DOCX\n",
    "def extract_text(file_path):\n",
    "    text = \"\"\n",
    "    if file_path.endswith('.pdf'):\n",
    "        reader = PdfReader(file_path)  \n",
    "        for page in reader.pages:\n",
    "            page_text = page.extract_text()\n",
    "            if page_text:  \n",
    "                text += page_text + \"\\n\"\n",
    "    elif file_path.endswith('.docx'):\n",
    "        doc = Document(file_path)\n",
    "        for para in doc.paragraphs:\n",
    "            text += para.text + \"\\n\"\n",
    "    else:\n",
    "        raise ValueError(\"Unsupported file format\")\n",
    "    return text\n",
    "\n",
    "sample_text = extract_text(\"YourResumeFile.pdf\") # Replace with your file path (PDF or DOCX)\n",
    "print(sample_text[:500])\n"
   ]
  },
  {
   "cell_type": "code",
   "execution_count": null,
   "id": "36bc3bba",
   "metadata": {},
   "outputs": [],
   "source": [
    "import re\n",
    "\n",
    "# remove extra spaces and newlines from extracted text\n",
    "def clean_text(text):\n",
    "    text = re.sub(r'\\n+', '\\n', text)\n",
    "    text = re.sub(r' +', ' ', text)\n",
    "    return text.strip()\n",
    "\n",
    "cleaned = clean_text(sample_text)\n",
    "print(cleaned[:500])"
   ]
  },
  {
   "cell_type": "code",
   "execution_count": null,
   "id": "4a94d9f5",
   "metadata": {},
   "outputs": [],
   "source": [
    "# email and phoneNumber extraction\n",
    "def extract_emails(text):\n",
    "    match = re.findall(r'[a-zA-Z0-9._%+-]+@[a-zA-Z0-9.-]+\\.[a-zA-Z]{2,}', text)\n",
    "    return match if match else None\n",
    "\n",
    "def extract_phones(text):\n",
    "    match = re.search(r'(\\+91[\\s-]?\\d{5}[\\s-]?\\d{5}|\\d{10})', text)\n",
    "    return match.group(0) if match else None\n",
    "\n",
    "email = extract_emails(cleaned)\n",
    "phone = extract_phones(cleaned)\n",
    "print(\"Email:\", email, \"Phone:\", phone)"
   ]
  },
  {
   "cell_type": "code",
   "execution_count": null,
   "id": "5d077950",
   "metadata": {},
   "outputs": [],
   "source": [
    "# name extraction using spaCy\n",
    "import spacy\n",
    "nlp = spacy.load('en_core_web_sm')\n",
    "\n",
    "def extract_name(text):\n",
    "    doc = nlp(text)\n",
    "    for ent in doc.ents:\n",
    "        if ent.label_ == 'PERSON':\n",
    "            return ent.text\n",
    "    return None"
   ]
  },
  {
   "cell_type": "code",
   "execution_count": null,
   "id": "c626a497",
   "metadata": {},
   "outputs": [],
   "source": [
    "# extract skills with the help of predefined skills list from resume\n",
    "SKILLS = ['Python', 'Java', 'C++', 'Machine Learning', 'Data Analysis', 'SQL', 'Excel', 'Communication', 'Leadership']\n",
    "def extract_skills(text, skills=SKILLS):\n",
    "    found = [skill for skill in skills if skill.lower() in text.lower()]\n",
    "    return list(set(found))\n",
    "print(extract_skills(cleaned))"
   ]
  },
  {
   "cell_type": "code",
   "execution_count": null,
   "id": "ebc91617",
   "metadata": {},
   "outputs": [],
   "source": [
    "#extract education details from resume using predefined keywords\n",
    "EDU_KEYWORDS = ['B.Tech', 'M.Tech', 'B.Sc', 'M.Sc', 'PhD', 'Bachelor', 'Master', 'University', 'College', 'School', 'Degree']\n",
    "\n",
    "def extract_education(text):\n",
    "    lines = text.split('\\n')\n",
    "    education = []\n",
    "    for i, line in enumerate(lines):\n",
    "        for word in EDU_KEYWORDS:\n",
    "            if word.lower() in line.lower():\n",
    "                education.append(line.strip())\n",
    "                if i + 1 < len(lines) and lines[i+1].strip():\n",
    "                    education.append(lines[i+1].strip())\n",
    "                break\n",
    "    return sorted(set(education))\n",
    "\n",
    "print(extract_education(cleaned))\n"
   ]
  },
  {
   "cell_type": "code",
   "execution_count": null,
   "id": "f9a2de5c",
   "metadata": {},
   "outputs": [],
   "source": [
    "# extract experience details from resume using predefined keywords\n",
    "def extract_experience(text):\n",
    "    experience_keywords = ['experience', 'worked', 'employment', 'career', 'professional']\n",
    "    \n",
    "    exp_set = set()\n",
    "    \n",
    "    lines = text.split('\\n')\n",
    "    \n",
    "    for line in lines:\n",
    "        lower_line = line.lower()\n",
    "        if any(keyword in lower_line for keyword in experience_keywords):\n",
    "            exp_set.add(line.strip())\n",
    "    return list(exp_set)\n",
    "print(extract_experience(cleaned))\n"
   ]
  },
  {
   "cell_type": "code",
   "execution_count": null,
   "id": "7596e9f0",
   "metadata": {},
   "outputs": [],
   "source": [
    "# Combine all extraction functions\n",
    "parsed_resume = {\n",
    "    \"Name\": extract_name(cleaned),\n",
    "    \"Email\": extract_emails(cleaned),\n",
    "    \"Phone\": extract_phones(cleaned),\n",
    "    \"Skills\": extract_skills(cleaned),\n",
    "    \"Education\": extract_education(cleaned),\n",
    "    \"Experience\": extract_experience(cleaned)\n",
    "}\n",
    "print(parsed_resume)"
   ]
  },
  {
   "cell_type": "code",
   "execution_count": null,
   "id": "856c71a9",
   "metadata": {},
   "outputs": [],
   "source": [
    "# Process  resumes in a folder and save results to CSV\n",
    "import pandas as pd\n",
    "import os\n",
    "\n",
    "def process_folder(folder_path):\n",
    "    results = []\n",
    "    for file in os.listdir(folder_path):\n",
    "        if file.endswith(\".pdf\") or file.endswith(\".docx\"):\n",
    "            path = os.path.join(folder_path, file)\n",
    "            text = clean_text(extract_text(path))\n",
    "            parsed = {\n",
    "    \"File\": file,\n",
    "    \"Name\": extract_name(text),\n",
    "    \"Email\": extract_emails(text),\n",
    "    \"Phone\": extract_phones(text),\n",
    "    \"Skills\": extract_skills(text),\n",
    "    \"Education\": extract_education(text),\n",
    "    \"Experience\": extract_experience(text)  \n",
    "}\n",
    "\n",
    "            results.append(parsed)\n",
    "    return pd.DataFrame(results)\n",
    "\n",
    "folder_path = \"YourResumeFile.pdf\" # Replace with your file path (PDF or DOCX)\n",
    "\n",
    "output_path = \"prased_resume.csv\" # Replace with your desired output path\n",
    "\n",
    "df = process_folder(folder_path)\n",
    "df.to_csv(output_path, index=False)\n",
    "\n",
    "if os.path.exists(output_path):\n",
    "    print(\"CSV saved successfully!\")\n",
    "else:\n",
    "    print(\"CSV not found.\")\n",
    "\n",
    "print(\"Current working directory:\", os.getcwd())\n"
   ]
  }
 ],
 "metadata": {
  "kernelspec": {
   "display_name": "Python 3",
   "language": "python",
   "name": "python3"
  },
  "language_info": {
   "codemirror_mode": {
    "name": "ipython",
    "version": 3
   },
   "file_extension": ".py",
   "mimetype": "text/x-python",
   "name": "python",
   "nbconvert_exporter": "python",
   "pygments_lexer": "ipython3",
   "version": "3.13.7"
  }
 },
 "nbformat": 4,
 "nbformat_minor": 5
}
